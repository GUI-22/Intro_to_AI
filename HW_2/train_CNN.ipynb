{
 "cells": [
  {
   "cell_type": "code",
   "execution_count": null,
   "metadata": {},
   "outputs": [],
   "source": [
    "import torch\n",
    "from gensim.models import KeyedVectors\n",
    "from torch import nn\n",
    "from torch import optim\n",
    "from torch.nn import functional\n",
    "import utils"
   ]
  },
  {
   "cell_type": "code",
   "execution_count": null,
   "metadata": {},
   "outputs": [],
   "source": [
    "# 设置超参数\n",
    "\n",
    "batch_size = 128                    # batch_size\n",
    "seq_len = 100                       #truncate_pad 后句子长度\n",
    "lr = 1e-2                           #学习率\n",
    "num_epochs = 20                     #总共训练轮数\n",
    "specified_kernel_sizes = [3, 4]     #卷积的宽度\n",
    "specified_channels = [50, 50]       #一维卷积的输出通道个数\n",
    "specified_drop_out = 0              #训练时，在线性层前面的drop_out层的drop_out力度"
   ]
  },
  {
   "cell_type": "code",
   "execution_count": null,
   "metadata": {},
   "outputs": [],
   "source": [
    "# 预处理训练、测评数据\n",
    "word_vectors = KeyedVectors.load_word2vec_format(\"./Dataset/wiki_word2vec_50.bin\", binary=True)\n",
    "#对于未知的词语，用随机一个vector表示\n",
    "unk_vector = torch.randn(50, dtype=torch.float32) * 0.01\n",
    "train_iter = utils.data_loader(\"./Dataset/train.txt\", word_vectors, unk_vector, batch_size, True, seq_len)\n",
    "test_iter = utils.data_loader(\"./Dataset/test.txt\", word_vectors, unk_vector, batch_size, False, seq_len)\n",
    "validation_iter = utils.data_loader(\"./Dataset/validation.txt\", word_vectors, unk_vector, batch_size, False, seq_len)"
   ]
  },
  {
   "cell_type": "code",
   "execution_count": null,
   "metadata": {},
   "outputs": [],
   "source": [
    "# 定义模型\n",
    "\n",
    "class GlobalMaxPool_1d(nn.Module):\n",
    "    def __init__(self):\n",
    "        super(GlobalMaxPool_1d, self).__init__()\n",
    "    def forward(self, X):\n",
    "        # X.shape == (batch_size, channels, seq_len)\n",
    "        # Pool之后X.shape == (batch_size, channels, 1)，即每个channels内部取max\n",
    "        return functional.max_pool1d(X, kernel_size=X.shape[2])\n",
    "    \n",
    "class text_CNN(nn.Module):\n",
    "    def __init__(self, kernel_sizes, channels, embed_size=50, drop_out=0.5):\n",
    "        super(text_CNN, self).__init__()\n",
    "        self.convs = nn.ModuleList()\n",
    "        for channel, kernel_size in zip(channels, kernel_sizes):\n",
    "            self.convs.append(nn.Conv1d(in_channels=embed_size, out_channels=channel, kernel_size=kernel_size))\n",
    "        self.pool = GlobalMaxPool_1d()\n",
    "        self.relu = nn.ReLU()\n",
    "        self.dropout = nn.Dropout(drop_out)\n",
    "        self.linear = nn.Linear(sum(channels), 2)\n",
    "    def forward(self, X):\n",
    "        # X.shape == (batch_size, seq_len, embed_size)\n",
    "        # 输入conv时最后一维应该是“代表一个句子的一部分”，因此要permute\n",
    "        X = X.permute(0, 2, 1)\n",
    "        # conv之后 shape == (batch_size, out_channel, seq_len)\n",
    "        # max_pool之后 shape == (batch_size, out_channel, 1)\n",
    "        # squeeze之后 shape == (batch_size, out_channel)\n",
    "        outputs = [self.pool(self.relu(conv(X))) for conv in self.convs]\n",
    "        outputs = [output.squeeze(-1) for output in outputs]\n",
    "        encoded = torch.cat(outputs, dim=-1)\n",
    "        return self.linear(self.dropout(encoded))\n",
    "    "
   ]
  },
  {
   "cell_type": "code",
   "execution_count": null,
   "metadata": {},
   "outputs": [],
   "source": [
    "# 搭建模型，并进行训练、预测\n",
    "net = text_CNN(kernel_sizes=specified_kernel_sizes, channels=specified_channels, drop_out=specified_drop_out)\n",
    "\n",
    "net = utils.initialize_model(net, None)\n",
    "\n",
    "model_path = \"./saved_path/saved_CNN.pth\"\n",
    "\n",
    "optimizer = optim.Adam(net.parameters(), lr)\n",
    "loss = nn.CrossEntropyLoss()\n",
    "device = torch.device(\"cuda\")\n",
    "utils.train(train_iter, validation_iter, test_iter, net, loss, optimizer, device, num_epochs, model_path)\n",
    "\n",
    "net.load_state_dict(torch.load(model_path))\n",
    "test_acc, test_f_score = utils.eval_acc(net, test_iter, device)\n",
    "print('total_epoch %d, test_acc %.3f, test_f_score, %.3f' % (num_epochs, test_acc, test_f_score))"
   ]
  }
 ],
 "metadata": {
  "language_info": {
   "name": "python"
  }
 },
 "nbformat": 4,
 "nbformat_minor": 2
}
