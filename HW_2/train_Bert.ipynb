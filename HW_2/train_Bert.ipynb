{
 "cells": [
  {
   "cell_type": "code",
   "execution_count": 1,
   "metadata": {},
   "outputs": [],
   "source": [
    "from transformers import BertTokenizer, BertForSequenceClassification\n",
    "from torch.utils.data import DataLoader, RandomSampler, SequentialSampler\n",
    "from torch.optim import AdamW\n",
    "import torch\n",
    "from torch import nn\n",
    "from transformers import AutoTokenizer, AutoModelForMaskedLM\n",
    "import time\n",
    "import random"
   ]
  },
  {
   "cell_type": "code",
   "execution_count": 2,
   "metadata": {},
   "outputs": [],
   "source": [
    "# 设置超参数\n",
    "max_len = 128       #句子truncate pad后长度\n",
    "batch_size = 64     #batch_size\n",
    "num_epochs = 10     #总共训练轮数"
   ]
  },
  {
   "cell_type": "code",
   "execution_count": 3,
   "metadata": {},
   "outputs": [],
   "source": [
    "\n",
    "# Step1: 处理数据\n",
    "def read_file(path, is_train=False):\n",
    "    items = []\n",
    "    with open(path, \"r\", encoding='utf-8') as in_file:\n",
    "        for line in in_file:\n",
    "            items.append(line)\n",
    "    if is_train:\n",
    "      random.shuffle(items)\n",
    "    labels = []\n",
    "    sentences = []\n",
    "    for item in items:\n",
    "        labels.append(int(item[0]))\n",
    "        sentences.append(item[1:])\n",
    "    return torch.tensor(labels, dtype=torch.long), sentences\n",
    "\n",
    "train_labels, train_sentences = read_file(\"./Dataset/train.txt\", is_train=True)\n",
    "test_labels, test_sentences = read_file(\"./Dataset/test.txt\")\n",
    "tokenizer = AutoTokenizer.from_pretrained(\"./bert_base_Chinese\")\n",
    "\n",
    "def data_loader(labels, sentences, tokenizer=tokenizer, max_len=max_len, batch_size=batch_size):\n",
    "    tokenized_sentences = tokenizer(sentences, padding=True, truncation=True, max_length=max_len, return_tensors='pt')\n",
    "    train_data = list(zip(tokenized_sentences['input_ids'], tokenized_sentences['attention_mask'], labels))\n",
    "    return DataLoader(train_data, batch_size=batch_size)\n",
    "\n",
    "train_iter = data_loader(train_labels, train_sentences)\n",
    "test_iter = data_loader(test_labels, test_sentences)"
   ]
  },
  {
   "cell_type": "code",
   "execution_count": 4,
   "metadata": {},
   "outputs": [],
   "source": [
    "# Step2: 定义训练、测评函数\n",
    "\n",
    "def eval_acc(net, data_iter, device=None):\n",
    "    if device is None:\n",
    "        device = list(net.parameters())[0].device\n",
    "    num_right = 0.0\n",
    "    n = 0\n",
    "    TP = 0.0\n",
    "    FP = 0.0\n",
    "    FN = 0.0\n",
    "    for input_ids, attention_mask, y in data_iter:\n",
    "        net.eval()\n",
    "        attention_mask = attention_mask.to(device)\n",
    "        y = y.to(device)\n",
    "        y_hat = net(input_ids.to(device), attention_mask=attention_mask).logits\n",
    "        num_right += (y_hat.argmax(dim=1) == y).float().sum().cpu().item()\n",
    "        n += y_hat.shape[0]\n",
    "        for y_hat_row, y_row in zip(y_hat, y):\n",
    "            if y_hat_row[1] > y_hat_row[0]:\n",
    "                if y_row == 1:\n",
    "                    TP += 1\n",
    "                else:\n",
    "                    FP += 1\n",
    "            else:\n",
    "                if y_row == 1:\n",
    "                    FN += 1\n",
    "        net.train()\n",
    "    acc = num_right / n\n",
    "    f_score = 2.0 / (2 + FP/TP + FN/TP)\n",
    "    return acc, f_score\n",
    "\n",
    "    \n",
    "def train(train_iter, validation_iter, net, loss_func, optimizer, device, num_epochs, model_path):\n",
    "    net = net.to(device)\n",
    "    num_batch = 0\n",
    "    best_validation_acc = 0.0\n",
    "    for epoch in range(num_epochs):\n",
    "        train_loss, train_acc = 0.0, 0.0\n",
    "        n = 0\n",
    "        start_time = time.time()\n",
    "        total_batches = len(train_iter)\n",
    "        for batch_index, (input_ids, attention_mask, y) in enumerate(train_iter):\n",
    "            attention_mask = attention_mask.to(device) \n",
    "            y = y.to(device)            \n",
    "            y_hat = net(input_ids.to(device), attention_mask=attention_mask).logits.to(device)\n",
    "            loss = loss_func(y_hat, y)\n",
    "            optimizer.zero_grad()\n",
    "            loss.backward()\n",
    "            optimizer.step()\n",
    "            train_acc += (y_hat.argmax(dim=1) == y.to(device)).float().sum().cpu().item()\n",
    "            train_loss += loss.cpu().item()\n",
    "            n += y.shape[0]\n",
    "            num_batch += 1\n",
    "            if num_batch % 20 == 0:\n",
    "                progress = (batch_index + 1) / total_batches * 100\n",
    "                print(f\"Progress: {progress:.2f}%\")\n",
    "        validation_acc, f_score = eval_acc(net, validation_iter)\n",
    "        print('epoch %d, loss %.4f, train_acc %.3f, validation_acc %.3f, f_score, %.3f, time %.1f sec'\n",
    "              % (epoch + 1, train_loss / num_batch, train_acc / n, validation_acc, f_score, time.time() - start_time))\n",
    "        if validation_acc > best_validation_acc:\n",
    "            best_validation_acc = validation_acc\n",
    "            torch.save(net.state_dict(), model_path)"
   ]
  },
  {
   "cell_type": "code",
   "execution_count": 5,
   "metadata": {},
   "outputs": [
    {
     "name": "stderr",
     "output_type": "stream",
     "text": [
      "Some weights of BertForSequenceClassification were not initialized from the model checkpoint at ./bert_base_Chinese and are newly initialized: ['classifier.bias', 'classifier.weight']\n",
      "You should probably TRAIN this model on a down-stream task to be able to use it for predictions and inference.\n"
     ]
    }
   ],
   "source": [
    "# 构建模型、进行训练测评\n",
    "model = BertForSequenceClassification.from_pretrained(\n",
    "    \"./bert_base_Chinese\", # 使用12层的BERT模型\n",
    "    num_labels = 2, # 二分类任务（比如情感分析）\n",
    "    output_attentions = False, # 模型是否返回注意力权重\n",
    "    output_hidden_states = False, # 模型是否返回所有隐藏状态\n",
    ")\n",
    "\n",
    "model_path = \"./saved_path/saved_bert.pth\"\n",
    "\n",
    "optimizer = AdamW(model.parameters(), lr=3e-5)\n",
    "loss = nn.CrossEntropyLoss()\n",
    "device = torch.device(\"cuda\")\n",
    "train(train_iter, test_iter, model, loss, optimizer, device, num_epochs, model_path)\n",
    "\n",
    "model.load_state_dict(torch.load(model_path))\n",
    "test_acc, test_f_score = eval_acc(model, test_iter, device)\n",
    "print(f\"in test dataset, acc = {test_acc}, f_score = {test_f_score}\")"
   ]
  }
 ],
 "metadata": {
  "kernelspec": {
   "display_name": "base",
   "language": "python",
   "name": "python3"
  },
  "language_info": {
   "codemirror_mode": {
    "name": "ipython",
    "version": 3
   },
   "file_extension": ".py",
   "mimetype": "text/x-python",
   "name": "python",
   "nbconvert_exporter": "python",
   "pygments_lexer": "ipython3",
   "version": "3.9.16"
  }
 },
 "nbformat": 4,
 "nbformat_minor": 2
}
