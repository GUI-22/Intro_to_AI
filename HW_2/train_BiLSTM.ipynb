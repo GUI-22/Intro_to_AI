{
 "cells": [
  {
   "cell_type": "code",
   "execution_count": 1,
   "metadata": {},
   "outputs": [],
   "source": [
    "import torch\n",
    "from gensim.models import KeyedVectors\n",
    "from torch import nn\n",
    "from torch import optim\n",
    "from torch.nn import functional\n",
    "import utils"
   ]
  },
  {
   "cell_type": "code",
   "execution_count": 2,
   "metadata": {},
   "outputs": [],
   "source": [
    "# 设置超参数\n",
    "batch_size = 128        # batch_size\n",
    "seq_len = 100           #truncate_pad 后句子长度\n",
    "lr = 1e-2               #学习率\n",
    "num_epochs = 20         #总共训练轮数\n",
    "specified_num_hiddens = 48  #隐藏层的单元个数\n",
    "specified_num_layers = 3    #指定总共的层数\n",
    "specified_drop_out = 0.4    #训练时，在线性层前面的drop_out层的drop_out力度\n"
   ]
  },
  {
   "cell_type": "code",
   "execution_count": 3,
   "metadata": {},
   "outputs": [],
   "source": [
    "# 预处理训练、测评数据\n",
    "word_vectors = KeyedVectors.load_word2vec_format(\"./Dataset/wiki_word2vec_50.bin\", binary=True)\n",
    "#对于未知的词语，用随机一个vector表示\n",
    "unk_vector = torch.randn(50, dtype=torch.float32) * 0.01\n",
    "train_iter = utils.data_loader(\"./Dataset/train.txt\", word_vectors, unk_vector, batch_size, True, seq_len)\n",
    "test_iter = utils.data_loader(\"./Dataset/test.txt\", word_vectors, unk_vector, batch_size, False, seq_len)\n",
    "validation_iter = utils.data_loader(\"./Dataset/validation.txt\", word_vectors, unk_vector, batch_size, False, seq_len)"
   ]
  },
  {
   "cell_type": "code",
   "execution_count": 4,
   "metadata": {},
   "outputs": [],
   "source": [
    "\n",
    "class BiRNN_LSTM(nn.Module):\n",
    "    def __init__(self, num_hiddens, num_layers, drop_out=0, embed_size=50):\n",
    "        super(BiRNN_LSTM, self).__init__()\n",
    "        # 以下运用了双向LSTM\n",
    "        self.encoder = nn.LSTM(input_size=embed_size, \n",
    "                                hidden_size=num_hiddens, \n",
    "                                num_layers=num_layers,\n",
    "                                bidirectional=True)\n",
    "        self.dropout = nn.Dropout(drop_out)\n",
    "        self.decoder = nn.Linear(4*num_hiddens, 2)\n",
    "\n",
    "    def forward(self, inputs):\n",
    "        outputs, _ = self.encoder(inputs.permute(1, 0, 2)) # output, (h, c)\n",
    "        encoding = torch.cat((outputs[0], outputs[-1]), -1)\n",
    "        return self.decoder(self.dropout(encoding))\n",
    "\n"
   ]
  },
  {
   "cell_type": "code",
   "execution_count": 5,
   "metadata": {},
   "outputs": [
    {
     "name": "stdout",
     "output_type": "stream",
     "text": [
      "epoch 1, loss 0.5724, train_acc 0.697, validation_acc 0.741, validation_f_score, 0.776, time 16.7 sec\n",
      "epoch 2, loss 0.2343, train_acc 0.783, validation_acc 0.805, validation_f_score, 0.808, time 9.5 sec\n",
      "epoch 3, loss 0.1423, train_acc 0.809, validation_acc 0.758, validation_f_score, 0.796, time 10.9 sec\n",
      "epoch 4, loss 0.0990, train_acc 0.823, validation_acc 0.820, validation_f_score, 0.824, time 7.8 sec\n",
      "epoch 5, loss 0.0742, train_acc 0.836, validation_acc 0.818, validation_f_score, 0.828, time 8.0 sec\n",
      "epoch 6, loss 0.0613, train_acc 0.841, validation_acc 0.803, validation_f_score, 0.820, time 8.3 sec\n",
      "epoch 7, loss 0.0477, train_acc 0.855, validation_acc 0.829, validation_f_score, 0.834, time 8.2 sec\n",
      "epoch 8, loss 0.0376, train_acc 0.872, validation_acc 0.807, validation_f_score, 0.782, time 8.2 sec\n",
      "epoch 9, loss 0.0305, train_acc 0.885, validation_acc 0.822, validation_f_score, 0.813, time 12.1 sec\n",
      "epoch 10, loss 0.0246, train_acc 0.896, validation_acc 0.813, validation_f_score, 0.816, time 11.5 sec\n",
      "epoch 11, loss 0.0189, train_acc 0.915, validation_acc 0.827, validation_f_score, 0.828, time 6.9 sec\n",
      "epoch 12, loss 0.0158, train_acc 0.921, validation_acc 0.821, validation_f_score, 0.813, time 8.1 sec\n",
      "epoch 13, loss 0.0129, train_acc 0.933, validation_acc 0.812, validation_f_score, 0.813, time 10.7 sec\n",
      "epoch 14, loss 0.0111, train_acc 0.941, validation_acc 0.822, validation_f_score, 0.829, time 8.5 sec\n",
      "epoch 15, loss 0.0100, train_acc 0.940, validation_acc 0.819, validation_f_score, 0.821, time 6.8 sec\n",
      "epoch 16, loss 0.0073, train_acc 0.955, validation_acc 0.812, validation_f_score, 0.818, time 9.8 sec\n",
      "epoch 17, loss 0.0059, train_acc 0.962, validation_acc 0.816, validation_f_score, 0.821, time 8.1 sec\n",
      "epoch 18, loss 0.0052, train_acc 0.966, validation_acc 0.813, validation_f_score, 0.814, time 9.2 sec\n",
      "epoch 19, loss 0.0048, train_acc 0.967, validation_acc 0.812, validation_f_score, 0.812, time 6.6 sec\n",
      "epoch 20, loss 0.0042, train_acc 0.969, validation_acc 0.807, validation_f_score, 0.799, time 11.3 sec\n",
      "total_epoch 20, test_acc 0.848, test_f_score, 0.849\n"
     ]
    }
   ],
   "source": [
    "# 搭建模型，并进行训练、预测\n",
    "net = BiRNN_LSTM(num_hiddens=specified_num_hiddens, num_layers=specified_num_layers, drop_out=specified_drop_out)\n",
    "\n",
    "net = utils.initialize_model(net, None)\n",
    "\n",
    "model_path = \"./saved_path/saved_LSTM.pth\"\n",
    "\n",
    "optimizer = optim.Adam(net.parameters(), lr)\n",
    "loss = nn.CrossEntropyLoss()\n",
    "device = torch.device(\"cuda\")\n",
    "utils.train(train_iter, validation_iter, test_iter, net, loss, optimizer, device, num_epochs, model_path)\n",
    "\n",
    "net.load_state_dict(torch.load(model_path))\n",
    "test_acc, test_f_score = utils.eval_acc(net, test_iter, device)\n",
    "print('total_epoch %d, test_acc %.3f, test_f_score, %.3f' % (num_epochs, test_acc, test_f_score))"
   ]
  }
 ],
 "metadata": {
  "kernelspec": {
   "display_name": "base",
   "language": "python",
   "name": "python3"
  },
  "language_info": {
   "codemirror_mode": {
    "name": "ipython",
    "version": 3
   },
   "file_extension": ".py",
   "mimetype": "text/x-python",
   "name": "python",
   "nbconvert_exporter": "python",
   "pygments_lexer": "ipython3",
   "version": "3.9.16"
  }
 },
 "nbformat": 4,
 "nbformat_minor": 2
}
