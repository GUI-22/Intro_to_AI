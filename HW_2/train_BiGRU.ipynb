{
 "cells": [
  {
   "cell_type": "code",
   "execution_count": null,
   "metadata": {},
   "outputs": [],
   "source": [
    "import torch\n",
    "from gensim.models import KeyedVectors\n",
    "from torch import nn\n",
    "from torch import optim\n",
    "from torch.nn import functional\n",
    "import utils"
   ]
  },
  {
   "cell_type": "code",
   "execution_count": null,
   "metadata": {},
   "outputs": [],
   "source": [
    "# 设置超参数\n",
    "batch_size = 128        # batch_size\n",
    "seq_len = 100           #truncate_pad 后句子长度\n",
    "lr = 1e-2               #学习率\n",
    "num_epochs = 20         #总共训练轮数\n",
    "specified_num_hiddens = 48  #隐藏层的单元个数\n",
    "specified_num_layers = 3    #指定总共的层数\n",
    "specified_drop_out = 0.4    #训练时，在线性层前面的drop_out层的drop_out力度"
   ]
  },
  {
   "cell_type": "code",
   "execution_count": null,
   "metadata": {},
   "outputs": [],
   "source": [
    "# 预处理训练、测评数据\n",
    "word_vectors = KeyedVectors.load_word2vec_format(\"./Dataset/wiki_word2vec_50.bin\", binary=True)\n",
    "#对于未知的词语，用随机一个vector表示\n",
    "unk_vector = torch.randn(50, dtype=torch.float32) * 0.01\n",
    "train_iter = utils.data_loader(\"./Dataset/train.txt\", word_vectors, unk_vector, batch_size, True, seq_len)\n",
    "test_iter = utils.data_loader(\"./Dataset/test.txt\", word_vectors, unk_vector, batch_size, False, seq_len)\n",
    "validation_iter = utils.data_loader(\"./Dataset/validation.txt\", word_vectors, unk_vector, batch_size, False, seq_len)"
   ]
  },
  {
   "cell_type": "code",
   "execution_count": null,
   "metadata": {},
   "outputs": [],
   "source": [
    "# 定义模型结构\n",
    "class BiRNN_GRU(nn.Module):\n",
    "    def __init__(self, num_hiddens, num_layers, drop_out=0, embed_size=50):\n",
    "        super(BiRNN_GRU, self).__init__()\n",
    "        self.encoder = nn.GRU(input_size=embed_size, \n",
    "                                hidden_size=num_hiddens, \n",
    "                                num_layers=num_layers,\n",
    "                                bidirectional=True)\n",
    "        self.dropout = nn.Dropout(drop_out)\n",
    "        self.decoder = nn.Linear(4*num_hiddens, 2)\n",
    "\n",
    "    def forward(self, inputs):\n",
    "        outputs, _ = self.encoder(inputs.permute(1, 0, 2)) # output, (h, c)\n",
    "        encoding = torch.cat((outputs[0], outputs[-1]), -1)\n",
    "        return self.decoder(self.dropout(encoding))\n",
    "    "
   ]
  },
  {
   "cell_type": "code",
   "execution_count": null,
   "metadata": {},
   "outputs": [],
   "source": [
    "# 搭建模型，并进行训练、预测\n",
    "net = BiRNN_GRU(num_hiddens=specified_num_hiddens, num_layers=specified_num_layers, drop_out=specified_drop_out)\n",
    "\n",
    "net = utils.initialize_model(net, None)\n",
    "\n",
    "model_path = \"./saved_path/saved_GRU.pth\"\n",
    "\n",
    "optimizer = optim.Adam(net.parameters(), lr)\n",
    "loss = nn.CrossEntropyLoss()\n",
    "device = torch.device(\"cuda\")\n",
    "utils.train(train_iter, validation_iter, test_iter, net, loss, optimizer, device, num_epochs, model_path)\n",
    "\n",
    "net.load_state_dict(torch.load(model_path))\n",
    "test_acc, test_f_score = utils.eval_acc(net, test_iter, device)\n",
    "print('total_epoch %d, test_acc %.3f, test_f_score, %.3f' % (num_epochs, test_acc, test_f_score))"
   ]
  }
 ],
 "metadata": {
  "language_info": {
   "name": "python"
  }
 },
 "nbformat": 4,
 "nbformat_minor": 2
}
